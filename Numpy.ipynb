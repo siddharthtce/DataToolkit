{
 "cells": [
  {
   "cell_type": "code",
   "execution_count": 1,
   "id": "87a89779-7733-4a40-955b-caf8de0696ee",
   "metadata": {},
   "outputs": [],
   "source": [
    "import numpy as np"
   ]
  },
  {
   "cell_type": "code",
   "execution_count": null,
   "id": "095ec413-e5e8-431d-8d66-b72a76acb255",
   "metadata": {},
   "outputs": [],
   "source": [
    "#1 What is a Python library? Why do we use Python libraries?\n",
    "\n",
    "'''\n",
    "Python library is a collection of pre-compiled functions which can be used later in a program for some specific purpose.\n",
    "It makes programming simpler for the programmer. \n",
    "Most of the Python libraries are written in C programming language. \n",
    "'''"
   ]
  },
  {
   "cell_type": "code",
   "execution_count": null,
   "id": "18b06782-29f3-410c-803f-4ddd8fc2366d",
   "metadata": {},
   "outputs": [],
   "source": [
    "#2 What is the difference between Numpy array and List?\n",
    "\n",
    "'''\n",
    "Numpy array can store data of same data type whereas List stores data of different types. \n",
    "Numpy arrays are optimized for numerical / mathematical operations whereas List is used for general purpose data structure. \n",
    "'''"
   ]
  },
  {
   "cell_type": "code",
   "execution_count": 13,
   "id": "f3f4eb7c-5524-4402-8f51-73c8970b852f",
   "metadata": {},
   "outputs": [
    {
     "name": "stdout",
     "output_type": "stream",
     "text": [
      "The dimension of array is 2\n",
      "The size of array is 12\n",
      "The shape of array is (3, 4)\n"
     ]
    }
   ],
   "source": [
    "#3 Find the shape, size and dimension of the following array?\n",
    "\n",
    "arr = np.array([[1, 2, 3, 4],[5, 6, 7, 8],[9, 10, 11, 12]])\n",
    "\n",
    "print(\"The dimension of array is\",arr.ndim)\n",
    "print(\"The size of array is\",arr.size)\n",
    "print(\"The shape of array is\",arr.shape)"
   ]
  },
  {
   "cell_type": "code",
   "execution_count": 4,
   "id": "310235ae-3558-4171-8bd0-d44e7b17e388",
   "metadata": {},
   "outputs": [
    {
     "name": "stdout",
     "output_type": "stream",
     "text": [
      "[1 2 3 4]\n"
     ]
    }
   ],
   "source": [
    "#4 Write python code to access the first row of the following array?\n",
    "\n",
    "arr = np.array([[1, 2, 3, 4],[5, 6, 7, 8],[9, 10, 11, 12]])\n",
    "print(arr[0])"
   ]
  },
  {
   "cell_type": "code",
   "execution_count": 7,
   "id": "5e6abc80-178d-4508-8ef0-43376340b03c",
   "metadata": {},
   "outputs": [
    {
     "data": {
      "text/plain": [
       "12"
      ]
     },
     "execution_count": 7,
     "metadata": {},
     "output_type": "execute_result"
    }
   ],
   "source": [
    "#5 How do you access the element at the third row and fourth column from the given numpy array?\n",
    "\n",
    "arr = np.array([[1, 2, 3, 4],[5, 6, 7, 8],[9, 10, 11, 12]])\n",
    "arr[2][3]"
   ]
  },
  {
   "cell_type": "code",
   "execution_count": 22,
   "id": "3905a30d-906d-4fe6-b77e-8db853444e3a",
   "metadata": {},
   "outputs": [
    {
     "data": {
      "text/plain": [
       "array([[0.74990409, 0.90503008, 0.85075466],\n",
       "       [0.69635751, 0.94031569, 0.06901817],\n",
       "       [0.8320791 , 0.02132894, 0.15096967]])"
      ]
     },
     "execution_count": 22,
     "metadata": {},
     "output_type": "execute_result"
    }
   ],
   "source": [
    "#7 How can you generate a random 3x3 matrix with values between 0 and 1?\n",
    "\n",
    "arr=np.random.random((3,3))\n",
    "arr"
   ]
  },
  {
   "cell_type": "code",
   "execution_count": null,
   "id": "50d4cc10-9524-4c15-bbad-d460fa372cad",
   "metadata": {},
   "outputs": [
    {
     "name": "stdout",
     "output_type": "stream",
     "text": [
      "Uniform distribution [0.95653375 0.58302511 0.31622781 0.16350001 0.3862356  0.23999802\n",
      " 0.68296812 0.61799662 0.83428652 0.08273926]\n",
      "Normal distribution [-0.29881025  0.64854277 -0.90290281  1.03457153 -1.14676378  1.45737274\n",
      "  0.15712981  0.24128202  0.51442588 -1.48161493]\n"
     ]
    }
   ],
   "source": [
    "#8 Describe the difference between np.random.rand and np.random.randn?\n",
    "\n",
    "'''\n",
    "np.random.rand is to generate sample for Uniform distribution\n",
    "np.random.randn is to generate sample for Normal distribution\n",
    "'''\n",
    "\n",
    "arr1=np.random.rand(10)\n",
    "print(\"Uniform distribution\",arr1)\n",
    "\n",
    "arr2=np.random.randn(10)\n",
    "print(\"Normal distribution\",arr2)"
   ]
  },
  {
   "cell_type": "code",
   "execution_count": 31,
   "id": "c9cf3f33-e65d-471b-89df-51ef6aa015a9",
   "metadata": {},
   "outputs": [
    {
     "data": {
      "text/plain": [
       "array([[[ 1,  2,  3,  4],\n",
       "        [ 5,  6,  7,  8],\n",
       "        [ 9, 10, 11, 12]]])"
      ]
     },
     "execution_count": 31,
     "metadata": {},
     "output_type": "execute_result"
    }
   ],
   "source": [
    "#9 Write code to increase the dimension of the following array?\n",
    "\n",
    "arr = np.array([[1, 2, 3, 4],[5, 6, 7, 8],[9, 10, 11, 12]])\n",
    "arr1 = np.expand_dims(arr,axis=0)\n",
    "arr1"
   ]
  },
  {
   "cell_type": "code",
   "execution_count": 14,
   "id": "ac364f66-540f-4533-9743-1e0a6851951c",
   "metadata": {},
   "outputs": [
    {
     "data": {
      "text/plain": [
       "array([[ 1,  5,  9],\n",
       "       [ 2,  6, 10],\n",
       "       [ 3,  7, 11],\n",
       "       [ 4,  8, 12]])"
      ]
     },
     "execution_count": 14,
     "metadata": {},
     "output_type": "execute_result"
    }
   ],
   "source": [
    "#10 How to transpose the following array in NumPy?\n",
    "\n",
    "arr = np.array([[1, 2, 3, 4],[5, 6, 7, 8],[9, 10, 11, 12]])\n",
    "arr.T\n"
   ]
  },
  {
   "cell_type": "code",
   "execution_count": 12,
   "id": "b3ef1b64-362f-4754-8e24-adc0da8410c6",
   "metadata": {},
   "outputs": [
    {
     "name": "stdout",
     "output_type": "stream",
     "text": [
      "Index wise multiplication\n",
      "[[  1   4   9  16]\n",
      " [ 25  36  49  64]\n",
      " [ 81 100 121 144]]\n",
      "Add both Matrices\n",
      "[[ 2  4  6  8]\n",
      " [10 12 14 16]\n",
      " [18 20 22 24]]\n",
      "[[0 0 0 0]\n",
      " [0 0 0 0]\n",
      " [0 0 0 0]]\n"
     ]
    },
    {
     "data": {
      "text/plain": [
       "array([[1., 1., 1., 1.],\n",
       "       [1., 1., 1., 1.],\n",
       "       [1., 1., 1., 1.]])"
      ]
     },
     "execution_count": 12,
     "metadata": {},
     "output_type": "execute_result"
    }
   ],
   "source": [
    "#11 Consider the following matrix:\n",
    "\n",
    "matrixA = [[1, 2, 3, 4],[5, 6, 7, 8],[9, 10, 11, 12]]\n",
    "matrixB = [[1, 2, 3, 4],[5, 6, 7, 8],[9, 10, 11, 12]]\n",
    "\n",
    "arr1 = np.array(matrixA)\n",
    "arr2 = np.array(matrixB)\n",
    "\n",
    "#1 Index wise multiplication\n",
    "\n",
    "print(\"Index wise multiplication\")\n",
    "print(arr1 * arr2)\n",
    "\n",
    "#2 Matrix multiplication\n",
    "\n",
    "'''\n",
    "Matrix multiplication (arr1 @ arr2) for above matrices cannot be performed as the number of columns of Matrix A is \n",
    "not equal to number of rows of Matrix B\n",
    "'''\n",
    "\n",
    "#3 Add both the matricK\n",
    "\n",
    "print(\"Add both Matrices\")\n",
    "print(arr1 + arr2)\n",
    "\n",
    "\n",
    "#4 Subtract matrix B from A\n",
    "\n",
    "print(arr1-arr2)\n",
    "\n",
    "\n",
    "#5 Divide Matrix B by A\n",
    "\n",
    "arr2/arr1\n"
   ]
  },
  {
   "cell_type": "code",
   "execution_count": 34,
   "id": "9b314aa8-7b7e-4905-a45a-7792db3f4ab1",
   "metadata": {},
   "outputs": [
    {
     "data": {
      "text/plain": [
       "array([[1, 2, 3, 4, 5, 6]])"
      ]
     },
     "execution_count": 34,
     "metadata": {},
     "output_type": "execute_result"
    }
   ],
   "source": [
    "#14 What does the np.reshape function do, and how is it used?\n",
    "\n",
    "'''\n",
    "Reshape function is used to change the shape of array without changing data\n",
    "'''\n",
    "\n",
    "arr=np.array([[1,2,3],[4,5,6]])\n",
    "np.reshape(arr,(1,6))"
   ]
  },
  {
   "cell_type": "code",
   "execution_count": 33,
   "id": "450bf1d2-98e9-4218-95a1-55cb17fbe50a",
   "metadata": {},
   "outputs": [
    {
     "data": {
      "text/plain": [
       "array([2, 3, 4])"
      ]
     },
     "execution_count": 33,
     "metadata": {},
     "output_type": "execute_result"
    }
   ],
   "source": [
    "#15 What is broadcasting in Numpy?\n",
    "\n",
    "'''\n",
    "The term broadcasting describes how NumPy treats arrays with different shapes during arithmetic operations. \n",
    "Subject to certain constraints, the smaller array is “broadcast” across the larger array so that they have compatible shapes. \n",
    "'''\n",
    "\n",
    "# Example\n",
    "\n",
    "arr1=np.array([1,2,3])\n",
    "arr2=np.array([1])\n",
    "arr1+arr2"
   ]
  },
  {
   "cell_type": "code",
   "execution_count": null,
   "id": "42fb2311-da41-4ad1-9445-0fce88648313",
   "metadata": {},
   "outputs": [],
   "source": []
  }
 ],
 "metadata": {
  "kernelspec": {
   "display_name": "Python 3 (ipykernel)",
   "language": "python",
   "name": "python3"
  },
  "language_info": {
   "codemirror_mode": {
    "name": "ipython",
    "version": 3
   },
   "file_extension": ".py",
   "mimetype": "text/x-python",
   "name": "python",
   "nbconvert_exporter": "python",
   "pygments_lexer": "ipython3",
   "version": "3.10.8"
  }
 },
 "nbformat": 4,
 "nbformat_minor": 5
}
